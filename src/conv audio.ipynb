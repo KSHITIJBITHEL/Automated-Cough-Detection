{
 "cells": [
  {
   "cell_type": "code",
   "execution_count": 1,
   "metadata": {},
   "outputs": [],
   "source": [
    "import librosa\n",
    "import sounddevice as sd\n",
    "import matplotlib.pyplot as plt\n",
    "import scipy.io.wavfile as sp\n",
    "import numpy as np\n",
    "import os"
   ]
  },
  {
   "cell_type": "code",
   "execution_count": 7,
   "metadata": {},
   "outputs": [],
   "source": [
    "def fragmentation(audio_file):\n",
    "    y,sr = librosa.load(audio_file)\n",
    "    \n",
    "    n = int(np.floor(len(y)/(sr*8)))\n",
    "    print(sr, n)\n",
    "    if n>=1:\n",
    "        for i in range(n):\n",
    "            y1 = y[i*sr*8:(i+1)*sr*8]\n",
    "#             sd.play(y1, sr)\n",
    "#             sd.wait()\n",
    "            label = \"noise\"\n",
    "            file_name = label+str(i)+audio_file\n",
    "            sp.write(file_name, sr, y1)\n",
    "#         sd.play(y[(i+1)*sr*8:len(y)], sr)\n",
    "#         sd.wait()\n",
    "#         label = str(input())\n",
    "#         file_name = label+str(i+1)+audio_file\n",
    "#         sp.write(file_name, sr, y[(i+1)*sr*8:int(len(y))-1])\n",
    "#     else:\n",
    "#         sd.play(y, sr)\n",
    "#         sd.wait()\n",
    "#         label = str(input())\n",
    "#         file_name = label+audio_file\n",
    "#         sp.write(file_name, sr, y)"
   ]
  },
  {
   "cell_type": "code",
   "execution_count": 8,
   "metadata": {
    "scrolled": false
   },
   "outputs": [
    {
     "name": "stdout",
     "output_type": "stream",
     "text": [
      "22050 15\n",
      "22050 9\n",
      "22050 4\n",
      "22050 10\n",
      "22050 6\n",
      "22050 15\n",
      "22050 37\n",
      "22050 37\n",
      "22050 37\n",
      "22050 35\n",
      "22050 37\n",
      "22050 37\n",
      "22050 3\n",
      "22050 37\n",
      "22050 3\n",
      "22050 3\n",
      "22050 37\n",
      "22050 4\n",
      "22050 17\n"
     ]
    }
   ],
   "source": [
    "for j in [\"AirConditioner_\", \"AirportAnnouncement_\", \"Babble_\", \"Bus_\", \"CafeTeria_\", \"Car_\", \"CopyMachine_\", \"Hallway_\", \"Metro_\", \"NeighborSpeaking_\", \"Office_\", \"ShuttingDoor_\", \"SqueakyChair_\", \"Traffic_\", \"VacuumCleaner_\", \"WasherDryer_\"]:\n",
    "    for no in range(12):\n",
    "        audio_file = j+str(no)+\".wav\"\n",
    "        if os.path.isfile(audio_file):\n",
    "            fragmentation(audio_file)"
   ]
  },
  {
   "cell_type": "code",
   "execution_count": 6,
   "metadata": {},
   "outputs": [],
   "source": [
    "audio_file = \"cough11.wav\"\n",
    "y,sr = librosa.load(audio_file)"
   ]
  },
  {
   "cell_type": "code",
   "execution_count": 7,
   "metadata": {},
   "outputs": [
    {
     "name": "stdout",
     "output_type": "stream",
     "text": [
      "[ 0.0000000e+00  0.0000000e+00  0.0000000e+00 ... -2.3970227e-07\n",
      "  1.6737536e-07 -1.1004275e-07] 22050\n"
     ]
    }
   ],
   "source": [
    "print(y, sr)"
   ]
  },
  {
   "cell_type": "code",
   "execution_count": 10,
   "metadata": {},
   "outputs": [
    {
     "data": {
      "text/plain": [
       "3.2275736961451247"
      ]
     },
     "execution_count": 10,
     "metadata": {},
     "output_type": "execute_result"
    }
   ],
   "source": [
    "len(y)/(sr*8)"
   ]
  },
  {
   "cell_type": "code",
   "execution_count": 4,
   "metadata": {},
   "outputs": [
    {
     "name": "stdout",
     "output_type": "stream",
     "text": [
      "apple\n",
      "orange\n"
     ]
    }
   ],
   "source": [
    "for fruit in [\"apple\", \"orange\"]:\n",
    "    print(fruit)"
   ]
  },
  {
   "cell_type": "code",
   "execution_count": null,
   "metadata": {},
   "outputs": [],
   "source": []
  }
 ],
 "metadata": {
  "kernelspec": {
   "display_name": "Python 3",
   "language": "python",
   "name": "python3"
  },
  "language_info": {
   "codemirror_mode": {
    "name": "ipython",
    "version": 3
   },
   "file_extension": ".py",
   "mimetype": "text/x-python",
   "name": "python",
   "nbconvert_exporter": "python",
   "pygments_lexer": "ipython3",
   "version": "3.8.3"
  }
 },
 "nbformat": 4,
 "nbformat_minor": 4
}
